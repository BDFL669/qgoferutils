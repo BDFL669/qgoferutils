{
 "cells": [
  {
   "cell_type": "markdown",
   "metadata": {},
   "source": [
    "# utils-qgofer\n",
    "\n",
    "> This module provides logging functionality for utils-qgofer"
   ]
  },
  {
   "cell_type": "code",
   "execution_count": null,
   "metadata": {},
   "outputs": [],
   "source": [
    "#| default_exp core"
   ]
  },
  {
   "cell_type": "code",
   "execution_count": null,
   "metadata": {},
   "outputs": [],
   "source": [
    "#| hide\n",
    "from nbdev.showdoc import *"
   ]
  },
  {
   "cell_type": "code",
   "execution_count": null,
   "metadata": {},
   "outputs": [],
   "source": [
    "#| export\n",
    "import logging\n",
    "from pathlib import Path\n",
    "from typing import Optional"
   ]
  },
  {
   "cell_type": "code",
   "execution_count": null,
   "metadata": {},
   "outputs": [],
   "source": [
    "#| export\n",
    "def get_log_path(path: Optional[Path] = None) -> Path:\n",
    "    \"\"\"Returns the log path.\"\"\"\n",
    "    if path is None:\n",
    "        path = init_path(path) / '.qgofer' / 'logs'\n",
    "        path.mkdir(parents=True, exist_ok=True)\n",
    "    return Path(path).expanduser().resolve()"
   ]
  },
  {
   "cell_type": "code",
   "execution_count": null,
   "metadata": {},
   "outputs": [],
   "source": [
    "#| export\n",
    "def get_logger(log_path=None, run_id=None) -> logging.Logger:\n",
    "    \"\"\"Returns a generic logger for logging relevant information pertaining to run of qgofer.\n",
    "\n",
    "    Returns:\n",
    "        Python logger object\n",
    "    \"\"\"\n",
    "    log_path = get_log_path(log_path)\n",
    "    logger = logging.getLogger(\"qgofer\")\n",
    "    logger.setLevel(logging.DEBUG)\n",
    "\n",
    "    if not run_id:\n",
    "        run_id = generate_uuid()\n",
    "\n",
    "    file_path = f\"{log_path}/{run_id}_log_{datetime.datetime.now().strftime('%y_%m_%d_%H_%M_%S')}.log\"\n",
    "    if not logger.handlers:\n",
    "        # create file handler which logs even debug messages\n",
    "        fh = logging.FileHandler(file_path)\n",
    "        fh.setLevel(logging.DEBUG)\n",
    "        # create console handler with a higher log level\n",
    "        ch = logging.StreamHandler(stream=sys.stdout)\n",
    "        ch.setLevel(logging.DEBUG)\n",
    "\n",
    "        # create formatter and add it to the handlers\n",
    "        formatter = logging.Formatter(\"%(asctime)s - %(name)s - %(levelname)s - %(message)s\")\n",
    "        fh.setFormatter(formatter)\n",
    "        ch.setFormatter(formatter)\n",
    "\n",
    "        # add the handlers to the logger\n",
    "        logger.addHandler(fh)\n",
    "        logger.addHandler(ch)\n",
    "        logger.info(f\"Logging to {file_path}\")\n",
    "\n",
    "    return logger"
   ]
  },
  {
   "cell_type": "code",
   "execution_count": null,
   "metadata": {},
   "outputs": [],
   "source": [
    "#| hide\n",
    "import nbdev; nbdev.nbdev_export()"
   ]
  },
  {
   "cell_type": "code",
   "execution_count": null,
   "metadata": {},
   "outputs": [],
   "source": []
  }
 ],
 "metadata": {
  "kernelspec": {
   "display_name": "python3",
   "language": "python",
   "name": "python3"
  }
 },
 "nbformat": 4,
 "nbformat_minor": 4
}
