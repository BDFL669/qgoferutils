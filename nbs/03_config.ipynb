{
 "cells": [
  {
   "cell_type": "markdown",
   "metadata": {},
   "source": [
    "# config\n",
    "\n",
    "> This module provides the core config class for qgofer"
   ]
  },
  {
   "cell_type": "code",
   "execution_count": null,
   "metadata": {},
   "outputs": [],
   "source": [
    "# | default_exp config"
   ]
  },
  {
   "cell_type": "code",
   "execution_count": null,
   "metadata": {},
   "outputs": [],
   "source": [
    "# | hide\n",
    "import nbdev\n",
    "# | hide\n",
    "from nbdev.showdoc import *"
   ]
  },
  {
   "cell_type": "code",
   "execution_count": null,
   "metadata": {},
   "outputs": [
    {
     "name": "stdout",
     "output_type": "stream",
     "text": [
      "Requirement already satisfied: black in c:\\users\\acqua\\miniconda3\\envs\\qgoferutils\\lib\\site-packages (24.2.0)\n",
      "Requirement already satisfied: click>=8.0.0 in c:\\users\\acqua\\miniconda3\\envs\\qgoferutils\\lib\\site-packages (from black) (8.1.7)\n",
      "Requirement already satisfied: mypy-extensions>=0.4.3 in c:\\users\\acqua\\miniconda3\\envs\\qgoferutils\\lib\\site-packages (from black) (1.0.0)\n",
      "Requirement already satisfied: packaging>=22.0 in c:\\users\\acqua\\miniconda3\\envs\\qgoferutils\\lib\\site-packages (from black) (23.2)\n",
      "Requirement already satisfied: pathspec>=0.9.0 in c:\\users\\acqua\\miniconda3\\envs\\qgoferutils\\lib\\site-packages (from black) (0.12.1)\n",
      "Requirement already satisfied: platformdirs>=2 in c:\\users\\acqua\\miniconda3\\envs\\qgoferutils\\lib\\site-packages (from black) (4.2.0)\n",
      "Requirement already satisfied: tomli>=1.1.0 in c:\\users\\acqua\\miniconda3\\envs\\qgoferutils\\lib\\site-packages (from black) (2.0.1)\n",
      "Requirement already satisfied: typing-extensions>=4.0.1 in c:\\users\\acqua\\miniconda3\\envs\\qgoferutils\\lib\\site-packages (from black) (4.10.0)\n",
      "Requirement already satisfied: colorama in c:\\users\\acqua\\miniconda3\\envs\\qgoferutils\\lib\\site-packages (from click>=8.0.0->black) (0.4.6)\n"
     ]
    }
   ],
   "source": [
    "!pip install black"
   ]
  },
  {
   "cell_type": "code",
   "execution_count": null,
   "metadata": {},
   "outputs": [],
   "source": [
    "# | export\n",
    "from __future__ import annotations\n",
    "\n",
    "import logging\n",
    "import shutil\n",
    "import sys\n",
    "from pathlib import Path"
   ]
  },
  {
   "cell_type": "code",
   "execution_count": null,
   "metadata": {},
   "outputs": [],
   "source": [
    "# | hide\n",
    "# The Integrity error is expected it's not a bug!\n",
    "from sqlite3 import IntegrityError\n",
    "from typing import Any, Dict"
   ]
  },
  {
   "cell_type": "code",
   "execution_count": null,
   "metadata": {},
   "outputs": [
    {
     "name": "stdout",
     "output_type": "stream",
     "text": [
      "Requirement already satisfied: orjson in c:\\users\\acqua\\miniconda3\\envs\\qgoferutils\\lib\\site-packages (3.9.15)\n",
      "Requirement already satisfied: requests in c:\\users\\acqua\\miniconda3\\envs\\qgoferutils\\lib\\site-packages (2.31.0)\n",
      "Requirement already satisfied: charset-normalizer<4,>=2 in c:\\users\\acqua\\miniconda3\\envs\\qgoferutils\\lib\\site-packages (from requests) (3.3.2)\n",
      "Requirement already satisfied: idna<4,>=2.5 in c:\\users\\acqua\\miniconda3\\envs\\qgoferutils\\lib\\site-packages (from requests) (3.6)\n",
      "Requirement already satisfied: urllib3<3,>=1.21.1 in c:\\users\\acqua\\miniconda3\\envs\\qgoferutils\\lib\\site-packages (from requests) (2.2.1)\n",
      "Requirement already satisfied: certifi>=2017.4.17 in c:\\users\\acqua\\miniconda3\\envs\\qgoferutils\\lib\\site-packages (from requests) (2024.2.2)\n",
      "Requirement already satisfied: orjson in c:\\users\\acqua\\miniconda3\\envs\\qgoferutils\\lib\\site-packages (3.9.15)\n",
      "Requirement already satisfied: requests in c:\\users\\acqua\\miniconda3\\envs\\qgoferutils\\lib\\site-packages (2.31.0)\n",
      "Requirement already satisfied: charset-normalizer<4,>=2 in c:\\users\\acqua\\miniconda3\\envs\\qgoferutils\\lib\\site-packages (from requests) (3.3.2)\n",
      "Requirement already satisfied: idna<4,>=2.5 in c:\\users\\acqua\\miniconda3\\envs\\qgoferutils\\lib\\site-packages (from requests) (3.6)\n",
      "Requirement already satisfied: urllib3<3,>=1.21.1 in c:\\users\\acqua\\miniconda3\\envs\\qgoferutils\\lib\\site-packages (from requests) (2.2.1)\n",
      "Requirement already satisfied: certifi>=2017.4.17 in c:\\users\\acqua\\miniconda3\\envs\\qgoferutils\\lib\\site-packages (from requests) (2024.2.2)\n"
     ]
    }
   ],
   "source": [
    "# | hide\n",
    "%run 00_core.ipynb\n",
    "%run 01_db.ipynb\n",
    "%run 02_logger.ipynb\n",
    "\n",
    "sys.path.append(\"..\")"
   ]
  },
  {
   "cell_type": "code",
   "execution_count": null,
   "metadata": {},
   "outputs": [],
   "source": [
    "# | export\n",
    "try:\n",
    "    from qgoferutils.db import QGoferDBWrapper\n",
    "    from qgoferutils.logger import get_log_path, get_logger\n",
    "except:\n",
    "    pass"
   ]
  },
  {
   "cell_type": "code",
   "execution_count": null,
   "metadata": {},
   "outputs": [],
   "source": [
    "# | export\n",
    "\n",
    "\n",
    "class QGoferConfig:\n",
    "    \"\"\"The main appliation class for managing the entirety of qgofer.\n",
    "\n",
    "    Attributes:\n",
    "        home: The home directory of the user, defaults to Path.home()\n",
    "        root_dir: The root directory to index, defaults to Path.home()\n",
    "    \"\"\"\n",
    "\n",
    "    __slots__ = (\n",
    "        \"_home\",\n",
    "        \"_root_dir\",\n",
    "        \"_qgofer\",\n",
    "        \"_qgofer_config\",\n",
    "        \"_qgofer_cache\",\n",
    "        \"_qgofer_cache_db\",\n",
    "        \"_qgofer_logs\",\n",
    "        \"_log_path\",\n",
    "        \"_logger\",\n",
    "    )\n",
    "    _instances = {}\n",
    "\n",
    "    def __new__(cls, home: Path = Path.home(), root_dir: Path = Path.home()):\n",
    "        \"\"\"Create a new instance of the class. by using the singleton pattern.\"\"\"\n",
    "        if cls not in cls._instances:\n",
    "            cls._instances[cls] = super().__new__(cls)\n",
    "        return cls._instances[cls]\n",
    "\n",
    "    def __init__(self, home: Path = Path.home(), root_dir: Path = Path.home()):\n",
    "        \"\"\"Initialize the class. using home and root_dir as the home and root directory of qgofer.\"\"\"\n",
    "        self._home = home\n",
    "        self._root_dir = root_dir\n",
    "        self._qgofer = self._home / \".qgofer\"\n",
    "        self._qgofer.mkdir(parents=True, exist_ok=True)\n",
    "        self._qgofer_config = self._qgofer / \"config.toml\"\n",
    "        self._qgofer_config.touch(exist_ok=True)\n",
    "        self._qgofer_cache = self._qgofer / \"cache\"\n",
    "        self._qgofer_cache.mkdir(parents=True, exist_ok=True)\n",
    "        self._qgofer_cache_db = self._qgofer_cache / \"qgofer.db\"\n",
    "        self._qgofer_cache_db.touch(exist_ok=True)\n",
    "        self._qgofer_logs = self._qgofer / \"logs\"\n",
    "        self._qgofer_logs.mkdir(parents=True, exist_ok=True)\n",
    "        self._log_path = get_log_path()\n",
    "        self._logger = get_logger(log_path=self._log_path)\n",
    "\n",
    "    @property\n",
    "    def home(self) -> Path:\n",
    "        \"\"\"Return the home directory of the user.\"\"\"\n",
    "        return self._home\n",
    "\n",
    "    @property\n",
    "    def qgofer(self) -> Path:\n",
    "        \"\"\"Return the qgofer directory.\"\"\"\n",
    "        return self._qgofer\n",
    "\n",
    "    @property\n",
    "    def qgofer_config(self) -> Path:\n",
    "        \"\"\"Return the qgofer config file.\"\"\"\n",
    "        return self._qgofer_config\n",
    "\n",
    "    @property\n",
    "    def qgofer_cache(self) -> Path:\n",
    "        \"\"\"Return the qgofer cache directory.\"\"\"\n",
    "        return self._qgofer_cache\n",
    "\n",
    "    @property\n",
    "    def qgofer_cache_db(self) -> Path:\n",
    "        \"\"\"Return the qgofer cache database.\"\"\"\n",
    "        return self._qgofer_cache_db\n",
    "\n",
    "    @property\n",
    "    def logger(self) -> logging.Logger:\n",
    "        \"\"\"Return the logger for QGoferConfig\"\"\"\n",
    "        return self._logger\n",
    "\n",
    "    @property\n",
    "    def logger_path(self) -> Path:\n",
    "        \"\"\"Return logger path for QGoferConfig\"\"\"\n",
    "        return self._log_path\n",
    "\n",
    "    @property\n",
    "    def root_dir(self) -> Path:\n",
    "        \"\"\"Return the root directory of the user\"\"\"\n",
    "        return self._root_dir\n",
    "\n",
    "    def _clear_cache_db(self) -> None:\n",
    "        \"\"\"Clear the qgofer cache database.\"\"\"\n",
    "        qgofer_db_wrapper = QGoferDBWrapper(self.qgofer_cache_db)\n",
    "        try:\n",
    "            os.remove(self.qgofer_cache_db)\n",
    "        except FileNotFoundError as err:\n",
    "            self._logger.error(err)\n",
    "\n",
    "    def clear_cache(self) -> None:\n",
    "        \"\"\"Clears the cache folder\"\"\"\n",
    "        try:\n",
    "            shutil.rmtree(self._qgofer_cache)\n",
    "        except OSError as err:\n",
    "            self._logger.error(err)\n",
    "        self._clear_cache_db()\n",
    "\n",
    "    def clear_logs(self) -> None:\n",
    "        \"\"\"This function clears the logs folder\"\"\"\n",
    "        try:\n",
    "            shutil.rmtree(self._qgofer_logs)\n",
    "            self._qgofer_logs.mkdir(parents=True, exist_ok=True)\n",
    "        except OSError as err:\n",
    "            self._logger.error(err)\n",
    "\n",
    "    def __repr__(self) -> str:\n",
    "        \"\"\"Return the representation of the class.\"\"\"\n",
    "        return f\"{self.__class__.__name__}({self.home})\"\n",
    "\n",
    "    def __str__(self) -> str:\n",
    "        \"\"\"Return the string representation of the class.\"\"\"\n",
    "        return \"Qgofer your personal assistant\""
   ]
  },
  {
   "cell_type": "code",
   "execution_count": null,
   "metadata": {},
   "outputs": [],
   "source": [
    "# | export\n",
    "\n",
    "\n",
    "def create_config_table(qgofer_cache_db) -> None:\n",
    "    \"\"\"Create the qgofer config table.\"\"\"\n",
    "    qgofer_db_wrapper = QGoferDBWrapper(qgofer_cache_db)\n",
    "    qgofer_db_wrapper.create_table(\"qgofer_config\", \"key TEXT UNIQUE,value TEXT\")"
   ]
  },
  {
   "cell_type": "code",
   "execution_count": null,
   "metadata": {},
   "outputs": [],
   "source": [
    "# | export\n",
    "\n",
    "\n",
    "def store_hugging_face_token(API_TOKEN, qgofer_cache_db) -> None:\n",
    "    \"\"\"store the hugging face api token\"\"\"\n",
    "    qgofer_db_wrapper = QGoferDBWrapper(qgofer_cache_db)\n",
    "    qgofer_db_wrapper.insert(\n",
    "        \"qgofer_config\",\n",
    "        columns=\"key, value\",\n",
    "        values=f\"'HUGGING_FACE_KEY', '{API_TOKEN}'\",\n",
    "    )"
   ]
  },
  {
   "cell_type": "code",
   "execution_count": null,
   "metadata": {},
   "outputs": [
    {
     "name": "stdout",
     "output_type": "stream",
     "text": [
      "2024-03-07 21:36:20,578 - qgofer - INFO - Logging to C:\\Users\\acqua\\.qgofer\\logs/tOk1ii33REygYB2zGpzuaw_log_24_03_07_21_36_20.log\n",
      "IntegrityError occurred: UNIQUE constraint failed: qgofer_config.key\n"
     ]
    }
   ],
   "source": [
    "q = QGoferConfig()\n",
    "create_config_table(q.qgofer_cache_db)\n",
    "try:\n",
    "    store_hugging_face_token(\"what a wow\", q.qgofer_cache_db)\n",
    "except IntegrityError as e:\n",
    "    print(\"IntegrityError occurred:\", e)"
   ]
  },
  {
   "cell_type": "code",
   "execution_count": null,
   "metadata": {},
   "outputs": [],
   "source": [
    "#| hide\n",
    "nbdev.nbdev_export()"
   ]
  },
  {
   "cell_type": "code",
   "execution_count": null,
   "metadata": {},
   "outputs": [],
   "source": []
  }
 ],
 "metadata": {
  "kernelspec": {
   "display_name": "python3",
   "language": "python",
   "name": "python3"
  }
 },
 "nbformat": 4,
 "nbformat_minor": 4
}
