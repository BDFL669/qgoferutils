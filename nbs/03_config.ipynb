{
 "cells": [
  {
   "cell_type": "markdown",
   "metadata": {},
   "source": [
    "# utils-qgofer\n",
    "\n",
    "> This module provides the core config class for qgofer"
   ]
  },
  {
   "cell_type": "code",
   "execution_count": null,
   "metadata": {},
   "outputs": [],
   "source": [
    "#| default_exp core"
   ]
  },
  {
   "cell_type": "code",
   "execution_count": null,
   "metadata": {},
   "outputs": [],
   "source": [
    "#| hide\n",
    "from nbdev.showdoc import *"
   ]
  },
  {
   "cell_type": "code",
   "execution_count": null,
   "metadata": {},
   "outputs": [
    {
     "name": "stdout",
     "output_type": "stream",
     "text": [
      "Requirement already satisfied: orjson in c:\\users\\acqua\\miniconda3\\envs\\utils-qgofer\\lib\\site-packages (3.9.15)\n",
      "Requirement already satisfied: requests in c:\\users\\acqua\\miniconda3\\envs\\utils-qgofer\\lib\\site-packages (2.31.0)\n",
      "Requirement already satisfied: charset-normalizer<4,>=2 in c:\\users\\acqua\\miniconda3\\envs\\utils-qgofer\\lib\\site-packages (from requests) (3.3.2)\n",
      "Requirement already satisfied: idna<4,>=2.5 in c:\\users\\acqua\\miniconda3\\envs\\utils-qgofer\\lib\\site-packages (from requests) (3.6)\n",
      "Requirement already satisfied: urllib3<3,>=1.21.1 in c:\\users\\acqua\\miniconda3\\envs\\utils-qgofer\\lib\\site-packages (from requests) (2.2.1)\n",
      "Requirement already satisfied: certifi>=2017.4.17 in c:\\users\\acqua\\miniconda3\\envs\\utils-qgofer\\lib\\site-packages (from requests) (2024.2.2)\n"
     ]
    }
   ],
   "source": [
    "#| hide\n",
    "%run 00_core.ipynb\n",
    "%run 02_logger.ipynb"
   ]
  },
  {
   "cell_type": "code",
   "execution_count": null,
   "metadata": {},
   "outputs": [],
   "source": [
    "import shutil\n",
    "import uuid\n",
    "import datetime\n",
    "from typing import Dict, Any\n",
    "from __future__ import annotations\n",
    "from typing import Optional\n",
    "import sys"
   ]
  },
  {
   "cell_type": "raw",
   "metadata": {},
   "source": [
    "#| export \n",
    "from .logger import get_log_path, get_logger"
   ]
  },
  {
   "cell_type": "code",
   "execution_count": null,
   "metadata": {},
   "outputs": [
    {
     "name": "stdout",
     "output_type": "stream",
     "text": [
      "2024-03-02 15:56:29,288 - qgofer - INFO - Logging to C:\\Users\\acqua\\.qgofer\\logs/4WV8kpftQiGmwOJhw3MHBg_log_24_03_02_15_56_29.log\n"
     ]
    }
   ],
   "source": [
    "#| export\n",
    "\n",
    "\n",
    "log_path = get_log_path()\n",
    "logger = get_logger(log_path=log_path)\n",
    "\n",
    "\n",
    "class QGoferConfig:\n",
    "    \"\"\"The main appliation class for managing the entirety of qgofer.\n",
    "\n",
    "    Attributes:\n",
    "        home: The home directory of the user, defaults to Path.home()\n",
    "        root_dir: The root directory to index, defaults to Path.home()\n",
    "    \"\"\"\n",
    "\n",
    "    __slots__ = (\n",
    "        \"_home\",\n",
    "        \"_root_dir\",\n",
    "        \"_qgofer\",\n",
    "        \"_qgofer_config\",\n",
    "        \"_qgofer_cache\",\n",
    "        \"_qgofer_cache_db\",\n",
    "        \"_qgofer_logs\",\n",
    "    )\n",
    "    _instances: Dict[Any, Any] = {}\n",
    "\n",
    "    def __new__(cls, home, root_dir) -> QGoferConfig:\n",
    "        \"\"\"Create a new instance of the class. by using the singleton pattern.\"\"\"\n",
    "        if cls not in cls._instances:\n",
    "            cls._instances[cls] = super(App, cls).__new__(cls)\n",
    "        return cls._instances[cls]\n",
    "\n",
    "    def __init__(self, home: Path = Path.home(), root_dir: Path = Path.home()):\n",
    "        \"\"\"Initialize the class. using home and root_dir as the home and root directory of qgofer.\"\"\"\n",
    "        self._home = home\n",
    "        self._root_dir = root_dir\n",
    "        self._qgofer = self._home / '.qgofer'\n",
    "        self._qgofer.mkdir(parents=True, exist_ok=True)\n",
    "        self._qgofer_config = self._qgofer / 'config.toml'\n",
    "        self._qgofer_config.touch(exist_ok=True)\n",
    "        self._qgofer_cache = self._qgofer / 'cache'\n",
    "        self._qgofer_cache.mkdir(parents=True, exist_ok=True)\n",
    "        self._qgofer_cache_db = self._qgofer_cache / 'qgofer.db'\n",
    "        self._qgofer_cache_db.touch(exist_ok=True)\n",
    "        self._qgofer_logs = self._qgofer / 'logs'\n",
    "        self._qgofer_logs.mkdir(parents=True, exist_ok=True)\n",
    "\n",
    "    @property\n",
    "    def home(self) -> Path:\n",
    "        \"\"\"Return the home directory of the user.\"\"\"\n",
    "        return self._home\n",
    "\n",
    "    @property\n",
    "    def qgofer(self) -> Path:\n",
    "        \"\"\"Return the qgofer directory.\"\"\"\n",
    "        return self._qgofer\n",
    "\n",
    "    @property\n",
    "    def qgofer_config(self) -> Path:\n",
    "        \"\"\"Return the qgofer config file.\"\"\"\n",
    "        return self._qgofer_config\n",
    "\n",
    "    @property\n",
    "    def qgofer_cache(self) -> Path:\n",
    "        \"\"\"Return the qgofer cache directory.\"\"\"\n",
    "        return self._qgofer_cache\n",
    "\n",
    "    @property\n",
    "    def qgofer_cache_db(self) -> Path:\n",
    "        \"\"\"Return the qgofer cache database.\"\"\"\n",
    "        return self._qgofer_cache_db\n",
    "\n",
    "    def _clear_cache_db(self) -> None:\n",
    "        \"\"\"Clear the qgofer cache database.\"\"\"\n",
    "        qgofer_db_wrapper = QGoferDBWrapper(self.qgofer_cache_db)\n",
    "        try:\n",
    "            os.remove(self.qgofer_cache_db)\n",
    "        except FileNotFoundError as err:\n",
    "            logger.error(err)\n",
    "\n",
    "    def clear_cache(self) -> None:\n",
    "        \"\"\"Clears the cache folder\"\"\"\n",
    "        try:\n",
    "            shutil.rmtree(self._qgofer_cache)\n",
    "        except OSError as err:\n",
    "            logger.error(err)\n",
    "        self._clear_cache_db()\n",
    "\n",
    "    def clear_logs(self) -> None:\n",
    "        \"\"\"This function clears the logs folder\n",
    "        \"\"\"\n",
    "        try:\n",
    "            shutil.rmtree(self._qgofer_logs)\n",
    "            self._qgofer_logs.mkdir(parents=True, exist_ok=True)\n",
    "        except OSError as err:\n",
    "            logger.error(err)\n",
    "\n",
    "    def __repr__(self) -> str:\n",
    "        \"\"\"Return the representation of the class.\"\"\"\n",
    "        return f\"{self.__class__.__name__}({self.home})\"\n",
    "\n",
    "    def __str__(self) -> str:\n",
    "        \"\"\"Return the string representation of the class.\"\"\"\n",
    "        return \"Qgofer your personal assistant\""
   ]
  },
  {
   "cell_type": "code",
   "execution_count": null,
   "metadata": {},
   "outputs": [],
   "source": [
    "#| hide\n",
    "import nbdev; nbdev.nbdev_export()"
   ]
  },
  {
   "cell_type": "code",
   "execution_count": null,
   "metadata": {},
   "outputs": [],
   "source": []
  }
 ],
 "metadata": {
  "kernelspec": {
   "display_name": "python3",
   "language": "python",
   "name": "python3"
  }
 },
 "nbformat": 4,
 "nbformat_minor": 4
}
